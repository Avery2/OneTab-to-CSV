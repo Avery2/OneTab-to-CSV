{
 "cells": [
  {
   "cell_type": "code",
   "execution_count": 1,
   "metadata": {},
   "outputs": [],
   "source": [
    "import pandas as pd\n",
    "\n",
    "with open('export_raw.txt') as f:\n",
    "    lines = f.readlines()\n",
    "\n",
    "l = []\n",
    "for line in lines:\n",
    "    if line.strip():\n",
    "        _ = line.strip().split(\"|\")\n",
    "        url = _[0]\n",
    "        desc = ''.join(_[1:])\n",
    "        l.append([url, desc])\n",
    "\n",
    "df = pd.DataFrame(l, columns=['url', 'description'])"
   ]
  },
  {
   "cell_type": "code",
   "execution_count": 2,
   "metadata": {},
   "outputs": [
    {
     "data": {
      "text/html": [
       "<div>\n",
       "<style scoped>\n",
       "    .dataframe tbody tr th:only-of-type {\n",
       "        vertical-align: middle;\n",
       "    }\n",
       "\n",
       "    .dataframe tbody tr th {\n",
       "        vertical-align: top;\n",
       "    }\n",
       "\n",
       "    .dataframe thead th {\n",
       "        text-align: right;\n",
       "    }\n",
       "</style>\n",
       "<table border=\"1\" class=\"dataframe\">\n",
       "  <thead>\n",
       "    <tr style=\"text-align: right;\">\n",
       "      <th></th>\n",
       "      <th>url</th>\n",
       "      <th>description</th>\n",
       "    </tr>\n",
       "  </thead>\n",
       "  <tbody>\n",
       "    <tr>\n",
       "      <th>0</th>\n",
       "      <td>https://eugeneyan.com/writing/onboarding/</td>\n",
       "      <td>What I Wish I Knew About Onboarding Effectively</td>\n",
       "    </tr>\n",
       "    <tr>\n",
       "      <th>1</th>\n",
       "      <td>https://app.pynhq.com/reader/01FN4XMGGRG512SPT...</td>\n",
       "      <td>Pyn: 🗓 Orientation Schedule. Your 1st day is ...</td>\n",
       "    </tr>\n",
       "    <tr>\n",
       "      <th>2</th>\n",
       "      <td>https://app.pynhq.com/reader/01FN4XMGGRG512SPT...</td>\n",
       "      <td>Pyn: 🚌🚶‍♀️🚴‍♀️ Visiting Amplitude HQ ⛴ 🚗 🚈</td>\n",
       "    </tr>\n",
       "    <tr>\n",
       "      <th>3</th>\n",
       "      <td>https://notes.andymatuschak.org/Enabling_envir...</td>\n",
       "      <td>Enabling environment  Most games aren’t enabl...</td>\n",
       "    </tr>\n",
       "    <tr>\n",
       "      <th>4</th>\n",
       "      <td>https://notes.andymatuschak.org/z8aZybuJJopS5f...</td>\n",
       "      <td>Triage strategies for maintaining inboxes (e....</td>\n",
       "    </tr>\n",
       "    <tr>\n",
       "      <th>...</th>\n",
       "      <td>...</td>\n",
       "      <td>...</td>\n",
       "    </tr>\n",
       "    <tr>\n",
       "      <th>221</th>\n",
       "      <td>https://www.youtube.com/watch?v=eVajQPuRmk8</td>\n",
       "      <td>The Most Powerful Way to Remember What You St...</td>\n",
       "    </tr>\n",
       "    <tr>\n",
       "      <th>222</th>\n",
       "      <td>https://pdfs.semanticscholar.org/3c45/ee6989cf...</td>\n",
       "      <td>ee6989cfe84f1f4866e26dbe7fae93de26b8.pdf</td>\n",
       "    </tr>\n",
       "    <tr>\n",
       "      <th>223</th>\n",
       "      <td>https://www.researchgate.net/publication/23545...</td>\n",
       "      <td>(PDF) Living well: A self-determination theor...</td>\n",
       "    </tr>\n",
       "    <tr>\n",
       "      <th>224</th>\n",
       "      <td>https://www.indiebound.org/book/9780743203043</td>\n",
       "      <td>Bowling Alone: The Collapse and Revival of Am...</td>\n",
       "    </tr>\n",
       "    <tr>\n",
       "      <th>225</th>\n",
       "      <td>https://www.indiebound.org/book/9780143036531</td>\n",
       "      <td>Amusing Ourselves to Death: Public Discourse ...</td>\n",
       "    </tr>\n",
       "  </tbody>\n",
       "</table>\n",
       "<p>226 rows × 2 columns</p>\n",
       "</div>"
      ],
      "text/plain": [
       "                                                   url  \\\n",
       "0           https://eugeneyan.com/writing/onboarding/    \n",
       "1    https://app.pynhq.com/reader/01FN4XMGGRG512SPT...   \n",
       "2    https://app.pynhq.com/reader/01FN4XMGGRG512SPT...   \n",
       "3    https://notes.andymatuschak.org/Enabling_envir...   \n",
       "4    https://notes.andymatuschak.org/z8aZybuJJopS5f...   \n",
       "..                                                 ...   \n",
       "221       https://www.youtube.com/watch?v=eVajQPuRmk8    \n",
       "222  https://pdfs.semanticscholar.org/3c45/ee6989cf...   \n",
       "223  https://www.researchgate.net/publication/23545...   \n",
       "224     https://www.indiebound.org/book/9780743203043    \n",
       "225     https://www.indiebound.org/book/9780143036531    \n",
       "\n",
       "                                           description  \n",
       "0      What I Wish I Knew About Onboarding Effectively  \n",
       "1     Pyn: 🗓 Orientation Schedule. Your 1st day is ...  \n",
       "2           Pyn: 🚌🚶‍♀️🚴‍♀️ Visiting Amplitude HQ ⛴ 🚗 🚈  \n",
       "3     Enabling environment  Most games aren’t enabl...  \n",
       "4     Triage strategies for maintaining inboxes (e....  \n",
       "..                                                 ...  \n",
       "221   The Most Powerful Way to Remember What You St...  \n",
       "222           ee6989cfe84f1f4866e26dbe7fae93de26b8.pdf  \n",
       "223   (PDF) Living well: A self-determination theor...  \n",
       "224   Bowling Alone: The Collapse and Revival of Am...  \n",
       "225   Amusing Ourselves to Death: Public Discourse ...  \n",
       "\n",
       "[226 rows x 2 columns]"
      ]
     },
     "execution_count": 2,
     "metadata": {},
     "output_type": "execute_result"
    }
   ],
   "source": [
    "df"
   ]
  },
  {
   "cell_type": "code",
   "execution_count": 3,
   "metadata": {},
   "outputs": [],
   "source": [
    "df.to_csv('export_csv.csv')"
   ]
  },
  {
   "cell_type": "code",
   "execution_count": null,
   "metadata": {},
   "outputs": [],
   "source": []
  }
 ],
 "metadata": {
  "interpreter": {
   "hash": "eb9a3b69315989b71ebfa9a6e5d99cd0b47220ba2e2aefc36423c82f8837c3dc"
  },
  "kernelspec": {
   "display_name": "Python 3.8.12 ('base')",
   "language": "python",
   "name": "python3"
  },
  "language_info": {
   "codemirror_mode": {
    "name": "ipython",
    "version": 3
   },
   "file_extension": ".py",
   "mimetype": "text/x-python",
   "name": "python",
   "nbconvert_exporter": "python",
   "pygments_lexer": "ipython3",
   "version": "3.8.12"
  },
  "orig_nbformat": 4
 },
 "nbformat": 4,
 "nbformat_minor": 2
}
